{
 "cells": [
  {
   "cell_type": "code",
   "execution_count": 1,
   "metadata": {},
   "outputs": [
    {
     "name": "stderr",
     "output_type": "stream",
     "text": [
      "[nltk_data] Downloading package punkt to\n",
      "[nltk_data]     C:\\Users\\Zenythah\\AppData\\Roaming\\nltk_data...\n",
      "[nltk_data]   Package punkt is already up-to-date!\n",
      "[nltk_data] Downloading package stopwords to\n",
      "[nltk_data]     C:\\Users\\Zenythah\\AppData\\Roaming\\nltk_data...\n",
      "[nltk_data]   Package stopwords is already up-to-date!\n"
     ]
    }
   ],
   "source": [
    "from sklearn.feature_extraction.text import TfidfVectorizer\n",
    "from sklearn.metrics.pairwise import cosine_similarity\n",
    "import numpy as np\n",
    "import nltk\n",
    "from nltk.tokenize import word_tokenize\n",
    "from nltk.corpus import stopwords\n",
    "import textract\n",
    "import re\n",
    "import string\n",
    "from pyresparser import ResumeParser\n",
    "import os\n",
    "from flask import Flask, request, jsonify\n",
    "from flask_cors import CORS\n",
    "from concurrent.futures import ThreadPoolExecutor\n",
    "\n",
    "# Ensure NLTK dependencies are downloaded\n",
    "nltk.download('punkt')\n",
    "nltk.download('stopwords')\n",
    "\n",
    "app = Flask(__name__)\n",
    "CORS(app, supports_credentials=True, resources={\n",
    "            r\"/*\": {\"origins\": [\"http://localhost:5000\"]}})\n",
    "\n",
    "# Set upload folder for resumes\n",
    "app.config['UPLOAD_FOLDER'] = os.path.join('..', 'uploads')\n",
    "\n",
    "# Initialize a thread pool for concurrent execution\n",
    "executor = ThreadPoolExecutor(max_workers=4)\n",
    "\n",
    "######################################\n"
   ]
  },
  {
   "cell_type": "code",
   "execution_count": 2,
   "metadata": {},
   "outputs": [],
   "source": [
    "###### NLP MODEL SECTION #############\n",
    "\n",
    "def preprocess_text(text):\n",
    "    text = re.sub(r'http\\S+', '', text)\n",
    "    text = re.sub(r'\\s+', ' ', text)\n",
    "    text = re.sub(r'\\[.*?\\]', '', text)\n",
    "    text = re.sub(r'[^\\w\\s]', '', text)\n",
    "    text = text.lower()\n",
    "    tokens = word_tokenize(text)\n",
    "    stop_words = set(stopwords.words('english'))\n",
    "    filtered_tokens = [word for word in tokens if word not in stop_words]\n",
    "    return ' '.join(filtered_tokens)\n"
   ]
  },
  {
   "cell_type": "code",
   "execution_count": 3,
   "metadata": {},
   "outputs": [],
   "source": [
    "def extract_text_from_file(filepath):\n",
    "    if not os.path.exists(filepath):\n",
    "        raise FileNotFoundError(f\"The file {filepath} was not found.\")\n",
    "    # Optimize by using a faster library for PDF processing if available\n",
    "    try:\n",
    "        text = textract.process(filepath, method='pdfminer')\n",
    "    except Exception:\n",
    "        text = textract.process(filepath)\n",
    "    return text.decode('utf-8')"
   ]
  },
  {
   "cell_type": "code",
   "execution_count": 4,
   "metadata": {},
   "outputs": [],
   "source": [
    "def rank_resumes(job_description, resume_files):\n",
    "    job_description = preprocess_text(job_description)\n",
    "\n",
    "    def process_resume_file(file):\n",
    "        return preprocess_text(extract_text_from_file(file))\n",
    "\n",
    "    # Use concurrent processing to speed up text extraction and preprocessing\n",
    "    resume_texts = list(executor.map(process_resume_file, resume_files))\n",
    "\n",
    "    vectorizer = TfidfVectorizer()\n",
    "    tfidf_matrix = vectorizer.fit_transform([job_description] + resume_texts)\n",
    "    similarity_scores = cosine_similarity(tfidf_matrix[0:1], tfidf_matrix[1:]).flatten()\n",
    "\n",
    "    resume_rankings = sorted(zip(resume_files, similarity_scores), key=lambda x: x[1], reverse=True)\n",
    "    return resume_rankings\n"
   ]
  },
  {
   "cell_type": "code",
   "execution_count": 5,
   "metadata": {},
   "outputs": [],
   "source": [
    "###### FINAL PROCESS SECTION #########\n",
    "\n",
    "@app.route('/process', methods=['POST'])\n",
    "def show_result():\n",
    "    data = request.get_json()\n",
    "    my_profile = data['profile']\n",
    "    user_id = data['userId']\n",
    "    resumes = data['resumes']\n",
    "    my_tags = data['tags']\n",
    "    my_jd = data['jd']\n",
    "\n",
    "    # Only process resumes that match the job profile\n",
    "    filtered_files = []\n",
    "    for resume in resumes:\n",
    "        resume_path = os.path.join(app.config['UPLOAD_FOLDER'], user_id, resume)\n",
    "        filtered_files.append(resume_path)\n",
    "\n",
    "    # Rank the filtered resumes\n",
    "    rankings = rank_resumes(my_jd, filtered_files)\n",
    "\n",
    "    # Gather additional data if needed (e.g., using ResumeParser)\n",
    "    res = []\n",
    "    for file, score in rankings:\n",
    "        user_info = ResumeParser(file).get_extracted_data()\n",
    "        res.append({\n",
    "            'resumeId': os.path.basename(file),\n",
    "            'score': round(score * 100, 2),\n",
    "            'userInfo': user_info\n",
    "        })\n",
    "\n",
    "    return jsonify(res)"
   ]
  },
  {
   "cell_type": "code",
   "execution_count": 6,
   "metadata": {},
   "outputs": [],
   "source": [
    "######################################\n",
    "\n",
    "\n",
    "# @app.route('/')\n",
    "# def hello_world():\n",
    "#     return \"Hello World\"\n",
    "\n",
    "\n",
    "# if __name__ == '__main__':\n",
    "#     app.run(port=5002)\n"
   ]
  }
 ],
 "metadata": {
  "kernelspec": {
   "display_name": "Python 3",
   "language": "python",
   "name": "python3"
  },
  "language_info": {
   "codemirror_mode": {
    "name": "ipython",
    "version": 3
   },
   "file_extension": ".py",
   "mimetype": "text/x-python",
   "name": "python",
   "nbconvert_exporter": "python",
   "pygments_lexer": "ipython3",
   "version": "3.9.12"
  }
 },
 "nbformat": 4,
 "nbformat_minor": 2
}
